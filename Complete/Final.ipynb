{
 "cells": [
  {
   "cell_type": "code",
   "execution_count": null,
   "id": "08f0469e",
   "metadata": {
    "scrolled": true
   },
   "outputs": [],
   "source": [
    "import pandas as pd\n"
   ]
  },
  {
   "cell_type": "code",
   "execution_count": null,
   "id": "c497ead4",
   "metadata": {
    "scrolled": true
   },
   "outputs": [],
   "source": [
    "df = pd.read_excel(r)\n"
   ]
  },
  {
   "cell_type": "code",
   "execution_count": null,
   "id": "294b6b7c",
   "metadata": {
    "scrolled": true
   },
   "outputs": [],
   "source": [
    "df['Backlogs'] = df['Backlogs'].fillna(0).astype(int)"
   ]
  },
  {
   "cell_type": "code",
   "execution_count": null,
   "id": "e86a8ec9",
   "metadata": {
    "scrolled": false
   },
   "outputs": [],
   "source": [
    "df"
   ]
  },
  {
   "cell_type": "code",
   "execution_count": null,
   "id": "68916ef3",
   "metadata": {
    "scrolled": false
   },
   "outputs": [],
   "source": [
    "# Remove rows with NaN values in the 'CGPA without backlogs' column\n",
    "group_leads = df[df['Backlogs'] == 0].dropna(subset=['CGPA without backlogs'])\n",
    "\n",
    "# Sort the DataFrame by 'CGPA without backlogs' in descending order\n",
    "group_leads = group_leads.sort_values(by='CGPA without backlogs', ascending=False)\n",
    "\n",
    "# Reset the index and drop the default index column\n",
    "# Reset the index and adjust it to start from 1\n",
    "group_leads = group_leads.reset_index(drop=True)\n",
    "group_leads.index = group_leads.index + 1\n",
    "\n",
    "# Display the top results\n",
    "group_leads\n"
   ]
  },
  {
   "cell_type": "code",
   "execution_count": null,
   "id": "5e4f2bdc",
   "metadata": {
    "scrolled": true
   },
   "outputs": [],
   "source": [
    "group_leads.count()"
   ]
  },
  {
   "cell_type": "code",
   "execution_count": null,
   "id": "a5d7a82d",
   "metadata": {
    "scrolled": false
   },
   "outputs": [],
   "source": [
    "# Filter the DataFrame to include only students with Backlogs greater than 0\n",
    "remaining_students = df[df['Backlogs'] > 0]\n",
    "\n",
    "# Sort the remaining students first by 'CGPA without backlogs' in descending order, then by 'Backlogs' in descending order\n",
    "remaining_students = remaining_students.sort_values(by=['CGPA without backlogs', 'Backlogs'], ascending=[False, False])\n",
    "\n",
    "# Reset the index and adjust it to start from 1\n",
    "remaining_students = remaining_students.reset_index(drop=True)\n",
    "remaining_students.index = remaining_students.index + 1\n",
    "\n",
    "# Display the remaining students\n",
    "remaining_students"
   ]
  },
  {
   "cell_type": "code",
   "execution_count": null,
   "id": "eb3d9ffe",
   "metadata": {
    "scrolled": true
   },
   "outputs": [],
   "source": [
    "remaining_students.count()"
   ]
  },
  {
   "cell_type": "code",
   "execution_count": null,
   "id": "223c3e95",
   "metadata": {},
   "outputs": [],
   "source": [
    "# Calculate the number of batches\n",
    "num_students = len(df)\n",
    "num_batches = num_students // 4\n",
    "\n",
    "# Create lists to store batch assignments\n",
    "batches = [[] for _ in range(num_batches)]\n",
    "\n",
    "\n",
    "# Phase 1: Assign top students with 0 backlogs as group leaders\n",
    "for i, (index, leader) in enumerate(group_leads.head(num_batches).iterrows()):\n",
    "    batches[i].append({'Student': leader, 'Role': 'Leader'})\n",
    "\n",
    "# Phase 2: Assign top students with backlogs to the groups in snake order\n",
    "for i, (index, student) in enumerate(remaining_students.head(num_batches).iterrows()):\n",
    "    batch_index = i if i < num_batches else 2*num_batches - 1 - i  # Snake pattern\n",
    "    batches[batch_index].append({'Student': student, 'Role': 'Member'})\n",
    "\n",
    "# Phase 3: Assign next students with 0 backlogs to the groups in reverse snake order\n",
    "group_leads_remaining = group_leads.iloc[num_batches:]\n",
    "for i, (index, student) in enumerate(group_leads_remaining.iterrows()):\n",
    "    batch_index = (num_batches - 1 - i) if i < num_batches else i - num_batches  # Reverse snake pattern\n",
    "    batches[batch_index].append({'Student': student, 'Role': 'Member'})\n",
    "\n",
    "# Phase 4: Assign remaining students with backlogs to the groups in reverse snake order\n",
    "remaining_students_rest = remaining_students.iloc[num_batches:]\n",
    "for i, (index, student) in enumerate(remaining_students_rest.iterrows()):\n",
    "    batch_index = (num_batches - 1 - i) if i < num_batches else i - num_batches  # Reverse snake pattern\n",
    "    batches[batch_index].append({'Student': student, 'Role': 'Member'})\n",
    "\n",
    "# Print batch assignments with batch names, member names, and student names\n",
    "for i, batch in enumerate(batches):\n",
    "    print(f\"Batch {i + 1}:\")\n",
    "    for member in batch:\n",
    "        role = member['Role']\n",
    "        roll_no = member['Student']['Roll No']\n",
    "        name = member['Student']['Student Full Name']\n",
    "        print(f\"  - {role}: {name} (Roll No: {roll_no})\")\n"
   ]
  },
  {
   "cell_type": "code",
   "execution_count": null,
   "id": "ec08707f",
   "metadata": {},
   "outputs": [],
   "source": []
  },
  {
   "cell_type": "code",
   "execution_count": null,
   "id": "326dbce4",
   "metadata": {},
   "outputs": [],
   "source": []
  }
 ],
 "metadata": {
  "kernelspec": {
   "display_name": "Python 3 (ipykernel)",
   "language": "python",
   "name": "python3"
  },
  "language_info": {
   "codemirror_mode": {
    "name": "ipython",
    "version": 3
   },
   "file_extension": ".py",
   "mimetype": "text/x-python",
   "name": "python",
   "nbconvert_exporter": "python",
   "pygments_lexer": "ipython3",
   "version": "3.11.5"
  }
 },
 "nbformat": 4,
 "nbformat_minor": 5
}
